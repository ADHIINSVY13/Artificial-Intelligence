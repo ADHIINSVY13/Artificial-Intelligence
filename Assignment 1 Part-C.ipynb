{
 "cells": [
  {
   "cell_type": "markdown",
   "id": "88c7d7c4",
   "metadata": {},
   "source": [
    "## IMPORTING LIBRARIES"
   ]
  },
  {
   "cell_type": "code",
   "execution_count": 119,
   "id": "909cf545",
   "metadata": {},
   "outputs": [],
   "source": [
    "import heapq\n",
    "import matplotlib.pyplot as plt\n",
    "import numpy as np"
   ]
  },
  {
   "cell_type": "markdown",
   "id": "97496a9a",
   "metadata": {},
   "source": [
    "## MazeNode class\n"
   ]
  },
  {
   "cell_type": "code",
   "execution_count": 120,
   "id": "22a085dd",
   "metadata": {},
   "outputs": [],
   "source": [
    "class MazeNode:\n",
    "    \"\"\"A class to represent a square in the grid for A* Pathfinding.\"\"\"\n",
    "    def __init__(self, parent=None, position=None):\n",
    "        self.parent = parent\n",
    "        self.position = position  # Stored as a tuple (row, col)\n",
    "\n",
    "        self.g = 0  # Cost from start to current node\n",
    "        self.h = 0  # Heuristic (estimated cost from current node to end)\n",
    "        self.f = 0  # Total cost (g + h)\n",
    "\n",
    "    def __eq__(self, other):\n",
    "        \"\"\"Compares two nodes based on their position.\"\"\"\n",
    "        return self.position == other.position\n",
    "\n",
    "    def __lt__(self, other):\n",
    "        \"\"\"Defines the less-than comparison for the priority queue (sorts by f-score).\"\"\"\n",
    "        return self.f < other.f\n"
   ]
  },
  {
   "cell_type": "markdown",
   "id": "b1dc2889",
   "metadata": {},
   "source": [
    "## The A* Algorithm Implementation"
   ]
  },
  {
   "cell_type": "code",
   "execution_count": 121,
   "id": "380456a4",
   "metadata": {},
   "outputs": [],
   "source": [
    "def astar_maze_search(maze, start_pos, end_pos, heuristic_func):\n",
    "    \n",
    "    # Create start and end node objects\n",
    "    start_node = MazeNode(None, start_pos)\n",
    "    end_node = MazeNode(None, end_pos)\n",
    "\n",
    "    # Initialize the open_frontier (as a priority queue) and the explored_nodes set\n",
    "    open_frontier = []\n",
    "    heapq.heappush(open_frontier, start_node)\n",
    "    explored_nodes = set()\n",
    "\n",
    "    # Main loop - continues as long as there are nodes to check\n",
    "    while open_frontier:\n",
    "\n",
    "        # Get the node with the lowest f-score from the priority queue\n",
    "        current_node = heapq.heappop(open_frontier)\n",
    "        explored_nodes.add(current_node.position)\n",
    "\n",
    "        # --- Goal Check ---\n",
    "        if current_node == end_node:\n",
    "            path = []\n",
    "            current = current_node\n",
    "            while current is not None:\n",
    "                path.append(current.position)\n",
    "                current = current.parent\n",
    "            return path[::-1]  # Return path in correct order\n",
    "\n",
    "        # --- Neighbor Exploration ---\n",
    "        possible_moves = [(0, -1), (0, 1), (-1, 0), (1, 0)]\n",
    "        \n",
    "        for move in possible_moves:\n",
    "            neighbor_pos = (current_node.position[0] + move[0], current_node.position[1] + move[1])\n",
    "\n",
    "            # 1. Check if within maze boundaries\n",
    "            if not (0 <= neighbor_pos[0] < len(maze) and 0 <= neighbor_pos[1] < len(maze[0])):\n",
    "                continue\n",
    "\n",
    "            # 2. Check if the neighbor is a wall\n",
    "            if maze[neighbor_pos[0]][neighbor_pos[1]] == 1:\n",
    "                continue\n",
    "            \n",
    "            # 3. Check if neighbor has already been explored\n",
    "            if neighbor_pos in explored_nodes:\n",
    "                continue\n",
    "\n",
    "            # Create neighbor node\n",
    "            neighbor_node = MazeNode(current_node, neighbor_pos)\n",
    "\n",
    "            # Calculate g, h, f\n",
    "            neighbor_node.g = current_node.g + 1\n",
    "            neighbor_node.h = heuristic_func(neighbor_node.position, end_node.position)\n",
    "            neighbor_node.f = neighbor_node.g + neighbor_node.h\n",
    "\n",
    "            # 4. Skip if better path already in open_frontier\n",
    "            if any(open_node for open_node in open_frontier if neighbor_node == open_node and neighbor_node.g >= open_node.g):\n",
    "                continue\n",
    "\n",
    "            # Add neighbor to open_frontier\n",
    "            heapq.heappush(open_frontier, neighbor_node)\n",
    "            \n",
    "    return None  # No path found\n"
   ]
  },
  {
   "cell_type": "markdown",
   "id": "9e4d871c",
   "metadata": {},
   "source": [
    "## Defining Heuristic Functions"
   ]
  },
  {
   "cell_type": "code",
   "execution_count": 122,
   "id": "12ec5418",
   "metadata": {},
   "outputs": [],
   "source": [
    "# Heuristic 1: The Golden Standard (Admissible & Consistent)\n",
    "def manhattan_maze_heuristic(current_pos, end_pos):\n",
    "    \"\"\"Calculates the Manhattan distance between two points.\"\"\"\n",
    "    return abs(current_pos[0] - end_pos[0]) + abs(current_pos[1] - end_pos[1])\n",
    "\n",
    "# Heuristic 2: The Pessimist (Non-Admissible)\n",
    "def non_admissible_maze_heuristic(current_pos, end_pos):\n",
    "    \"\"\"An example of a non-admissible heuristic that overestimates the cost.\"\"\"\n",
    "    return manhattan_maze_heuristic(current_pos, end_pos) * 1.5  # May overestimate\n",
    "\n",
    "# Heuristic 3: The Unreliable Guide (Inconsistent)\n",
    "def inconsistent_maze_heuristic(pos, goal):\n",
    "    # Inconsistent heuristic: overestimates moving from (4,4) to (4,5)\n",
    "    if pos == (4,4):\n",
    "        return 10   # deliberately higher than 1 + heuristic(4,5)\n",
    "    return abs(pos[0]-goal[0]) + abs(pos[1]-goal[1])"
   ]
  },
  {
   "cell_type": "markdown",
   "id": "6313b446",
   "metadata": {},
   "source": [
    "## Maze and Visualization "
   ]
  },
  {
   "cell_type": "code",
   "execution_count": 123,
   "id": "ce357fef",
   "metadata": {},
   "outputs": [],
   "source": [
    "# maze. 0 = path, 1 = wall\n",
    "maze = [\n",
    "    [0, 0, 0, 0, 0, 0, 1, 0, 0, 0],\n",
    "    [0, 1, 1, 1, 0, 1, 1, 0, 1, 0],\n",
    "    [0, 0, 0, 1, 0, 0, 1, 0, 1, 0],\n",
    "    [1, 1, 0, 1, 1, 0, 0, 0, 1, 0],\n",
    "    [0, 0, 0, 0, 1, 1, 1, 0, 0, 0],\n",
    "    [0, 1, 1, 0, 0, 0, 1, 1, 1, 0],  # Trap zone for inconsistent heuristic\n",
    "    [0, 0, 0, 0, 1, 0, 0, 0, 0, 0],\n",
    "    [0, 1, 1, 1, 0, 1, 1, 1, 1, 0],\n",
    "    [0, 1, 0, 0, 0, 0, 0, 0, 0, 0],\n",
    "    [0, 0, 0, 1, 1, 1, 1, 1, 1, 0]\n",
    "]\n",
    "\n",
    "start_position = (0, 0)\n",
    "end_position = (9, 9)\n",
    "OPTIMAL_COST = 18 \n",
    "\n",
    "def visualize_path(maze, path, title):\n",
    "    \"\"\"Visualizes the maze and the path found by the algorithm.\"\"\"\n",
    "    vis_maze = [row[:] for row in maze]\n",
    "    \n",
    "    if path:\n",
    "        # Mark the path cells with a different value (e.g., 2)\n",
    "        for step in path:\n",
    "            if vis_maze[step[0]][step[1]] == 0:\n",
    "                vis_maze[step[0]][step[1]] = 2\n",
    "        # Mark start and end with special values (e.g., 3 and 4)\n",
    "        vis_maze[path[0][0]][path[0][1]] = 3 # Start\n",
    "        vis_maze[path[-1][0]][path[-1][1]] = 4 # End\n",
    "    \n",
    "    plt.figure(figsize=(8, 8))\n",
    "    # Use a color map to distinguish path, walls, start, and end\n",
    "    plt.imshow(vis_maze, cmap='hot')\n",
    "    plt.title(title, fontsize=16)\n",
    "    plt.xticks([]), plt.yticks([]) # Hide axis ticks\n",
    "    plt.show()\n"
   ]
  },
  {
   "cell_type": "markdown",
   "id": "fb1be9c5",
   "metadata": {},
   "source": [
    "#### Experiment 1: Standard A* with Manhattan Heuristic (The Baseline)\n",
    "\n",
    "This is our control case. Since the Manhattan heuristic is both admissible and consistent, we expect A* to find the true shortest path."
   ]
  },
  {
   "cell_type": "code",
   "execution_count": 124,
   "id": "e6aa1982",
   "metadata": {},
   "outputs": [
    {
     "name": "stdout",
     "output_type": "stream",
     "text": [
      "--- Experiment 1: Standard A* (Admissible & Consistent) ---\n",
      "Path found with cost: 18\n",
      "Is the path optimal? True\n"
     ]
    },
    {
     "data": {
      "image/png": "[encoded data removed]",
      "text/plain": [
       "<Figure size 800x800 with 1 Axes>"
      ]
     },
     "metadata": {},
     "output_type": "display_data"
    }
   ],
   "source": [
    "print(\"--- Experiment 1: Standard A* (Admissible & Consistent) ---\")\n",
    "\n",
    "path1 = astar_maze_search(maze, start_position, end_position, manhattan_maze_heuristic)\n",
    "\n",
    "if path1:\n",
    "    cost1 = len(path1) - 1\n",
    "    print(f\"Path found with cost: {cost1}\")\n",
    "    print(f\"Is the path optimal? {cost1 == OPTIMAL_COST}\")\n",
    "    visualize_path(maze, path1, f\"Path with Manhattan Heuristic (Cost: {cost1})\")\n",
    "else:\n",
    "    print(\"No path found.\")\n"
   ]
  },
  {
   "cell_type": "markdown",
   "id": "c57a2ede",
   "metadata": {},
   "source": [
    "#### Experiment 2: A* with a Non-Admissible Heuristic\n",
    "\n",
    "Here, we use our pessimistic heuristic that overestimates the cost. Let's see if it gets tricked into finding a longer path."
   ]
  },
  {
   "cell_type": "code",
   "execution_count": 125,
   "id": "4fad5978",
   "metadata": {},
   "outputs": [
    {
     "name": "stdout",
     "output_type": "stream",
     "text": [
      "\n",
      "--- Experiment 2: A* with Non-Admissible Heuristic ---\n",
      "Path found with cost: 18\n",
      "Is the path optimal? True\n"
     ]
    },
    {
     "data": {
      "image/png": "[encoded data removed]",
      "text/plain": [
       "<Figure size 800x800 with 1 Axes>"
      ]
     },
     "metadata": {},
     "output_type": "display_data"
    }
   ],
   "source": [
    "print(\"\\n--- Experiment 2: A* with Non-Admissible Heuristic ---\")\n",
    "\n",
    "path2 = astar_maze_search(maze, start_position, end_position, non_admissible_maze_heuristic)\n",
    "\n",
    "if path2:\n",
    "    cost2 = len(path2) - 1\n",
    "    print(f\"Path found with cost: {cost2}\")\n",
    "    print(f\"Is the path optimal? {cost2 == OPTIMAL_COST}\")\n",
    "    visualize_path(maze, path2, f\"Path with Non-Admissible Heuristic (Cost: {cost2})\")\n",
    "else:\n",
    "    print(\"No path found.\")\n"
   ]
  },
  {
   "cell_type": "markdown",
   "id": "6ac3dd8c",
   "metadata": {},
   "source": [
    "#### Experiment 3: A* with an Inconsistent Heuristic\n",
    "\n",
    "Finally, we use the heuristic with the misleading \"trap\" cell. This heuristic is unreliable and might confuse the algorithm."
   ]
  },
  {
   "cell_type": "code",
   "execution_count": 126,
   "id": "964fa210",
   "metadata": {},
   "outputs": [
    {
     "name": "stdout",
     "output_type": "stream",
     "text": [
      "\n",
      "--- Experiment 3: A* with Inconsistent Heuristic ---\n",
      "Path found with cost: 18\n",
      "Is the path optimal? True\n"
     ]
    },
    {
     "data": {
      "image/png": "[encoded data removed]",
      "text/plain": [
       "<Figure size 800x800 with 1 Axes>"
      ]
     },
     "metadata": {},
     "output_type": "display_data"
    }
   ],
   "source": [
    "print(\"\\n--- Experiment 3: A* with Inconsistent Heuristic ---\")\n",
    "\n",
    "path3 = astar_maze_search(maze, start_position, end_position, inconsistent_maze_heuristic)\n",
    "\n",
    "if path3:\n",
    "    cost3 = len(path3) - 1\n",
    "    print(f\"Path found with cost: {cost3}\")\n",
    "    print(f\"Is the path optimal? {cost3 == OPTIMAL_COST}\")\n",
    "    visualize_path(maze, path3, f\"Path with Inconsistent Heuristic (Cost: {cost3})\")\n",
    "else:\n",
    "    print(\"No path found.\")\n"
   ]
  },
  {
   "cell_type": "markdown",
   "id": "03547dec",
   "metadata": {},
   "source": []
  }
 ],
 "metadata": {
  "kernelspec": {
   "display_name": "Python 3",
   "language": "python",
   "name": "python3"
  },
  "language_info": {
   "codemirror_mode": {
    "name": "ipython",
    "version": 3
   },
   "file_extension": ".py",
   "mimetype": "text/x-python",
   "name": "python",
   "nbconvert_exporter": "python",
   "pygments_lexer": "ipython3",
   "version": "3.13.7"
  }
 },
 "nbformat": 4,
 "nbformat_minor": 5
}
