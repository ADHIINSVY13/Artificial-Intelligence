{
 "cells": [
  {
   "cell_type": "markdown",
   "id": "a0b63371",
   "metadata": {},
   "source": [
    "Coding a graph's BFS "
   ]
  },
  {
   "cell_type": "code",
   "execution_count": null,
   "id": "13d53783",
   "metadata": {},
   "outputs": [],
   "source": [
    "graph = {\n",
    "  'A': ['B', 'C'],\n",
    "  'B': ['A', 'D', 'E'],\n",
    "  'C': ['A'],\n",
    "  'D': ['B'],\n",
    "  'E': ['B']\n",
    "}"
   ]
  }
 ],
 "metadata": {
  "kernelspec": {
   "display_name": "Python 3",
   "language": "python",
   "name": "python3"
  },
  "language_info": {
   "name": "python",
   "version": "3.12.5"
  }
 },
 "nbformat": 4,
 "nbformat_minor": 5
}
