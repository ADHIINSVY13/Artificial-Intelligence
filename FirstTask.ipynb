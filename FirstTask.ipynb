{
 "cells": [
  {
   "cell_type": "markdown",
   "id": "a0b63371",
   "metadata": {},
   "source": [
    "# Coding a graph's BFS "
   ]
  },
  {
   "cell_type": "code",
   "execution_count": null,
   "id": "a10a77a4",
   "metadata": {},
   "outputs": [],
   "source": [
    "with open(_)"
   ]
  },
  {
   "cell_type": "code",
   "execution_count": null,
   "id": "13d53783",
   "metadata": {},
   "outputs": [
    {
     "name": "stdout",
     "output_type": "stream",
     "text": [
      "{'A': 'WHITE', 'B': 'WHITE', 'C': 'WHITE', 'D': 'WHITE', 'E': 'WHITE', 'F': 'WHITE'}\n",
      "{'A': inf, 'B': inf, 'C': inf, 'D': inf, 'E': inf, 'F': inf}\n",
      "{'A': None, 'B': None, 'C': None, 'D': None, 'E': None, 'F': None}\n"
     ]
    }
   ],
   "source": [
    "color = { u: \"WHITE\" for u in graph}\n",
    "distance={ u: float(\"inf\") for u in graph}\n",
    "parent={u: None for u in graph}\n",
    "print(color)\n",
    "print(distance)\n",
    "print(parent)"
   ]
  },
  {
   "cell_type": "code",
   "execution_count": 3,
   "id": "9e45c261",
   "metadata": {},
   "outputs": [
    {
     "name": "stdout",
     "output_type": "stream",
     "text": [
      "Color: {'A': 'BLACK', 'B': 'BLACK', 'C': 'BLACK', 'D': 'BLACK', 'E': 'BLACK', 'F': 'BLACK'}\n",
      "Distance: {'A': 0, 'B': 1, 'C': 1, 'D': 2, 'E': 2, 'F': 2}\n",
      "Parent: {'A': None, 'B': 'A', 'C': 'A', 'D': 'B', 'E': 'B', 'F': 'C'}\n"
     ]
    }
   ],
   "source": [
    "from collections import deque \n",
    "def bfs(graph, start):\n",
    "    color[start] = \"GRAY\"\n",
    "    distance[start] = 0\n",
    "    parent[start] = None\n",
    "    queue = deque([start])\n",
    "    while queue:\n",
    "        u = queue.popleft() \n",
    "        for v in graph[u]:\n",
    "            if color[v] == \"WHITE\":\n",
    "                color[v] = \"GRAY\"\n",
    "                distance[v] = distance[u] + 1\n",
    "                parent[v] = u\n",
    "                queue.append(v)     \n",
    "        color[u] = \"BLACK\"\n",
    "\n",
    "bfs(graph, 'A') \n",
    "print(\"Color:\", color)\n",
    "print(\"Distance:\", distance)\n",
    "print(\"Parent:\", parent)    "
   ]
  },
  {
   "cell_type": "markdown",
   "id": "e4dd0a4d",
   "metadata": {},
   "source": [
    "# coding a graph's DFS"
   ]
  },
  {
   "cell_type": "code",
   "execution_count": 11,
   "id": "b4e8f74c",
   "metadata": {},
   "outputs": [
    {
     "name": "stdout",
     "output_type": "stream",
     "text": [
      "Color: {'u': 'BLACK', 'v': 'BLACK', 'w': 'BLACK', 'x': 'BLACK', 'y': 'BLACK', 'z': 'BLACK'}\n",
      "Parent: {'u': None, 'v': 'u', 'w': None, 'x': 'y', 'y': 'v', 'z': 'w'}\n",
      "Start time: {'u': 1, 'v': 2, 'w': 9, 'x': 4, 'y': 3, 'z': 10}\n",
      "Finish time: {'u': 8, 'v': 7, 'w': 12, 'x': 5, 'y': 6, 'z': 11}\n"
     ]
    }
   ],
   "source": [
    "node_list = [\"u\", \"v\", \"w\", \"x\", \"y\", \"z\"]\n",
    "graph2 = { \n",
    "    \"u\": [\"v\",\"x\"],\n",
    "    \"v\": [\"y\"],\n",
    "    \"w\": [\"y\",\"z\"],\n",
    "    \"x\": [\"v\"],\n",
    "    \"y\": [\"x\"],\n",
    "    \"z\": [\"z\"]\n",
    "}\n",
    "\n",
    "def dfs(graph2): \n",
    "    color2 = {u: \"WHITE\" for u in graph2}\n",
    "    parent2 = {u: None for u in graph2}\n",
    "    start_time = {u: None for u in graph2}\n",
    "    finish_time = {u: None for u in graph2}\n",
    "    time = 0\n",
    "\n",
    "    def dfs_visits(u):\n",
    "        nonlocal time\n",
    "        color2[u] = \"GRAY\"\n",
    "        time += 1\n",
    "        start_time[u] = time\n",
    "\n",
    "        for v in graph2[u]:\n",
    "            if color2[v] == \"WHITE\":\n",
    "                parent2[v] = u\n",
    "                dfs_visits(v)\n",
    "\n",
    "        color2[u] = \"BLACK\"\n",
    "        time += 1\n",
    "        finish_time[u] = time\n",
    "\n",
    "    for u in graph2:\n",
    "        if color2[u] == \"WHITE\":\n",
    "            dfs_visits(u)\n",
    "\n",
    "    print(\"Color:\", color2)\n",
    "    print(\"Parent:\", parent2)\n",
    "    print(\"Start time:\", start_time)\n",
    "    print(\"Finish time:\", finish_time)\n",
    "\n",
    "# Run\n",
    "dfs(graph2)\n"
   ]
  },
  {
   "cell_type": "markdown",
   "id": "ebd34bad",
   "metadata": {},
   "source": [
    "# Method to use when given an undirected graph and 2 nodes to find the shortest distance between them"
   ]
  },
  {
   "cell_type": "code",
   "execution_count": 12,
   "id": "dc9ae9a0",
   "metadata": {},
   "outputs": [
    {
     "name": "stdout",
     "output_type": "stream",
     "text": [
      "Graph: {'u': ['v', 'x'], 'v': ['y'], 'w': ['y', 'z'], 'x': ['v'], 'y': ['x'], 'z': ['z']}\n",
      "Source: \"v\"\n",
      "Destination: \"y\"\n"
     ]
    }
   ],
   "source": [
    "with open(\"input.txt\", \"r\") as f:\n",
    "    lines = f.readlines()\n",
    "\n",
    "\n",
    "graph_str = lines[0].strip()\n",
    "source = lines[1].strip()\n",
    "destination = lines[2].strip()\n",
    "\n",
    "\n",
    "graph1 = eval(graph_str)\n",
    "\n",
    "print(\"Graph:\", graph1)\n",
    "print(\"Source:\", source)\n",
    "print(\"Destination:\", destination)"
   ]
  },
  {
   "cell_type": "code",
   "execution_count": 13,
   "id": "e5ee907c",
   "metadata": {},
   "outputs": [
    {
     "name": "stdout",
     "output_type": "stream",
     "text": [
      "DFS time: 2\n",
      "BFS time: 3\n"
     ]
    }
   ],
   "source": [
    "from collections import deque\n",
    "\n",
    "def compare_path(graph, source, destination):\n",
    "\n",
    "    global color, dfs_time, bfs_time, time\n",
    "\n",
    "    color = {}\n",
    "    dfs_time = {}\n",
    "    bfs_time = {}\n",
    "    time = 0\n",
    "\n",
    "    for i in graph:\n",
    "        color[i] = \"white\"\n",
    "        bfs_time[i] = 0\n",
    "        dfs_time[i] = 0\n",
    "\n",
    "    if color[source] == \"white\":\n",
    "            dfs(graph, source, destination)\n",
    "    for i in graph:\n",
    "            color[i] = \"white\"\n",
    "    time = 0\n",
    "    bfs(graph, source, destination)\n",
    "\n",
    "    print(\"DFS time:\", dfs_time[destination])\n",
    "    print(\"BFS time:\", bfs_time[destination])\n",
    "\n",
    "\n",
    "def dfs(graph, source, destination):\n",
    "    global time, dfs_time, color\n",
    "    if source == destination:\n",
    "        dfs_time[source] = time\n",
    "        return\n",
    "    \n",
    "    color[source] = \"gray\"\n",
    "    for i in graph[source]:\n",
    "        time+=1\n",
    "        if i == destination:\n",
    "            dfs_time[destination] = time\n",
    "            return\n",
    "        if color[i] == \"white\":\n",
    "            dfs(graph, i, destination )\n",
    "    color[source]= \"black\"\n",
    "\n",
    "\n",
    "def bfs(graph, source, destination):\n",
    "    global time, bfs_time, color\n",
    "    if source == destination:\n",
    "        bfs_time[destination] = time\n",
    "        return\n",
    "    color[source] = \"gray\"\n",
    "\n",
    "    Q = deque()\n",
    "    Q.append(source)\n",
    "    while Q:\n",
    "        node = Q.popleft()\n",
    "        for i in graph[node]:\n",
    "            time+=1\n",
    "            if i == destination:\n",
    "                bfs_time[destination] = time\n",
    "                return\n",
    "            if color[i] == \"white\":\n",
    "                color[i] = \"gray\"\n",
    "                Q.append(i)\n",
    "        color[node] = \"black\"\n",
    "\n",
    "compare_path(graph1, \"u\", \"y\")"
   ]
  }
 ],
 "metadata": {
  "kernelspec": {
   "display_name": "Python 3",
   "language": "python",
   "name": "python3"
  },
  "language_info": {
   "codemirror_mode": {
    "name": "ipython",
    "version": 3
   },
   "file_extension": ".py",
   "mimetype": "text/x-python",
   "name": "python",
   "nbconvert_exporter": "python",
   "pygments_lexer": "ipython3",
   "version": "3.12.5"
  }
 },
 "nbformat": 4,
 "nbformat_minor": 5
}
